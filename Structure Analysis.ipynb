{
 "cells": [
  {
   "cell_type": "code",
   "execution_count": null,
   "metadata": {},
   "outputs": [],
   "source": []
  },
  {
   "cell_type": "code",
   "execution_count": 1,
   "metadata": {},
   "outputs": [],
   "source": [
    "import warnings\n",
    "warnings.filterwarnings('ignore')\n",
    "\n",
    "import pandas as pd\n",
    "import numpy as np\n",
    "import matplotlib.pyplot as plt\n",
    "import seaborn as sns\n",
    "import time\n",
    "\n",
    "%matplotlib inline\n",
    "\n",
    "import math\n",
    "import re\n",
    "import scrapy\n",
    "import requests\n",
    "import datetime\n",
    "\n",
    "from textblob import TextBlob\n",
    "\n",
    "import networkx as nx"
   ]
  },
  {
   "cell_type": "code",
   "execution_count": 2,
   "metadata": {},
   "outputs": [],
   "source": [
    "ted_main = pd.read_csv('ted_main.csv')"
   ]
  },
  {
   "cell_type": "code",
   "execution_count": 3,
   "metadata": {},
   "outputs": [
    {
     "data": {
      "text/plain": [
       "Index(['comments', 'description', 'duration', 'event', 'film_date',\n",
       "       'languages', 'main_speaker', 'name', 'num_speaker', 'published_date',\n",
       "       'ratings', 'related_talks', 'speaker_occupation', 'tags', 'title',\n",
       "       'url', 'views'],\n",
       "      dtype='object')"
      ]
     },
     "execution_count": 3,
     "metadata": {},
     "output_type": "execute_result"
    }
   ],
   "source": [
    "ted_main.columns"
   ]
  },
  {
   "cell_type": "code",
   "execution_count": 4,
   "metadata": {},
   "outputs": [],
   "source": [
    "ted_main.columns = ['comments', 'description', 'duration', 'event', 'film_date',\n",
    "       'languages', 'main_speaker', 'name', 'num_speaker', 'published_date',\n",
    "       'ratings', 'related_talks', 'speaker_occupation', 'tags', 'headline',\n",
    "       'url', 'views']"
   ]
  },
  {
   "cell_type": "code",
   "execution_count": 5,
   "metadata": {},
   "outputs": [
    {
     "name": "stdout",
     "output_type": "stream",
     "text": [
      "ted_main dataset size: 2550\n"
     ]
    }
   ],
   "source": [
    "print('ted_main dataset size:',len(ted_main))"
   ]
  },
  {
   "cell_type": "code",
   "execution_count": 6,
   "metadata": {},
   "outputs": [],
   "source": [
    "from datetime import datetime, timedelta\n",
    "ted_main['published_date'] = ted_main['published_date'].apply(lambda x: (datetime.fromtimestamp(x)).strftime(\"%Y/%m/%d - %H\").split(\"-\")[0].strip())\n",
    "ted_main['film_date'] = ted_main['film_date'].apply(lambda x: (datetime.fromtimestamp(x)).strftime(\"%Y/%m/%d - %H\").split(\"-\")[0].strip())"
   ]
  },
  {
   "cell_type": "code",
   "execution_count": 7,
   "metadata": {},
   "outputs": [
    {
     "data": {
      "text/plain": [
       "2550"
      ]
     },
     "execution_count": 7,
     "metadata": {},
     "output_type": "execute_result"
    }
   ],
   "source": [
    "len(ted_main)"
   ]
  },
  {
   "cell_type": "code",
   "execution_count": 8,
   "metadata": {},
   "outputs": [],
   "source": [
    "ted_transcript = pd.read_csv('TED_Talks_by_ID_plus-transcripts-and-LIWC-and-MFT-plus-views.csv')[['headline','transcript']]"
   ]
  },
  {
   "cell_type": "code",
   "execution_count": 9,
   "metadata": {},
   "outputs": [
    {
     "data": {
      "text/plain": [
       "2475"
      ]
     },
     "execution_count": 9,
     "metadata": {},
     "output_type": "execute_result"
    }
   ],
   "source": [
    "len(ted_transcript)"
   ]
  },
  {
   "cell_type": "code",
   "execution_count": 10,
   "metadata": {},
   "outputs": [],
   "source": [
    "ted_main = pd.merge(ted_main,ted_transcript,on = \"headline\")"
   ]
  },
  {
   "cell_type": "code",
   "execution_count": 11,
   "metadata": {},
   "outputs": [
    {
     "data": {
      "text/plain": [
       "2400"
      ]
     },
     "execution_count": 11,
     "metadata": {},
     "output_type": "execute_result"
    }
   ],
   "source": [
    "len(ted_main)"
   ]
  },
  {
   "cell_type": "code",
   "execution_count": 12,
   "metadata": {},
   "outputs": [],
   "source": [
    "ted_main = ted_main.dropna()"
   ]
  },
  {
   "cell_type": "code",
   "execution_count": 13,
   "metadata": {},
   "outputs": [
    {
     "data": {
      "text/plain": [
       "2306"
      ]
     },
     "execution_count": 13,
     "metadata": {},
     "output_type": "execute_result"
    }
   ],
   "source": [
    "len(ted_main)"
   ]
  },
  {
   "cell_type": "code",
   "execution_count": 14,
   "metadata": {},
   "outputs": [],
   "source": [
    "def clean_script(raw_script):\n",
    "    if isinstance(raw_script,str):\n",
    "        striped_script = ' '.join(raw_script.split())\n",
    "        clean_script = re.sub(r'\\d+:\\d+', '', striped_script)\n",
    "        #clean_script = re.sub(r'\\(.*?\\)', '', clean_script)\n",
    "        clean_script = clean_script.strip()\n",
    "    else:\n",
    "        clean_script = \"\"\n",
    "    return clean_script\n",
    "\n",
    "def remove_bracket_script(raw_script):\n",
    "    if isinstance(raw_script,str):\n",
    "        striped_script = ' '.join(raw_script.split())\n",
    "        clean_script = re.sub(r'\\(.*?\\)', '', striped_script)\n",
    "        clean_script = clean_script.strip()\n",
    "    else:\n",
    "        clean_script = \"\"\n",
    "    return clean_script"
   ]
  },
  {
   "cell_type": "code",
   "execution_count": 15,
   "metadata": {},
   "outputs": [],
   "source": [
    "ted_main['raw_transcript'] = ted_main['transcript'].apply(clean_script)\n",
    "ted_main['transcript'] = ted_main['raw_transcript'].apply(remove_bracket_script)"
   ]
  },
  {
   "cell_type": "code",
   "execution_count": 16,
   "metadata": {},
   "outputs": [],
   "source": [
    "ted_main['transcript_len'] = ted_main.transcript.apply(len)"
   ]
  },
  {
   "cell_type": "code",
   "execution_count": 17,
   "metadata": {},
   "outputs": [
    {
     "name": "stdout",
     "output_type": "stream",
     "text": [
      "Okay. Strolling along in Central Park Everyone's out today The daisies and dogwoods are all in bloom Oh, what a glorious day For picnics and Frisbees and roller skaters, Friends and lovers and lonely sunbathers Everyone's out in merry Manhattan in January   I brought the iced tea; Did you bring the bug spray? The flies are the size of your head Next to the palm tree, Did you see the 'gators Looking happy and well fed? Everyone's out in merry Manhattan in January  Everyone!   My preacher said, Don't you worry The scientists have it all wrong And so, who cares it's winter here? And I have my halter-top on I have my halter-top on Everyone's out in merry Manhattan in January.  Chris Anderson: Jill Sobule!\n",
      "\n",
      "Thomas Dolby: For pure pleasure please welcome the lovely, the delectable, and the bilingual Rachelle Garniez.    Rachelle Garniez: Quand il me prend dans ses bras Il me parle tout bas, Je vois la vie en rose. Il me dit des mots d'amour, Des mots de tous les jours, Et ca me fait quelque chose. Il est entre dans mon coeur Une part de bonheur Dont je connais la cause. C'est lui pour moi. Moi pour lui Dans la vie, Il me l'a dit, l'a jure [pour] la vie. Et des que je l'apercois Alors je sens en moi Mon coeur qui bat\n",
      "\n",
      "Like the heather on the hillside as they drove us from the Highlands Like the ice flow from the Arctic where we landed in Newfoundland There's a color to my sorrow There's a name for all this sadness Like the ocean in between us I am blue Blue is a river Blue remembered Blue water running clear Blue like a planet to a spaceman Blue river of my tears  So I came here to the city where the dream burns like a furnace And I dazzled in these dark streets like a diamond in a coalface Then the cold wind from the islands blew a storm cloud across the new moon Like the gun smoke above the houses in my home Blue is a river Blue remembered Blue water running clear Blue like a planet to a spaceman Blue river of my tears Blue river of my tears\n",
      "\n",
      "\n",
      "\n",
      "Hello everyone. And so the two of us are here to give you an example of creation. And I'm going to be folding one of Robert Lang's models. And this is the piece of paper it will be made from, and you can see all of the folds that are needed for it. And Rufus is going to be doing some improvisation on his custom, five-string electric cello, and it's very exciting to listen to him. Are you ready to go? OK. Just to make it a little bit more exciting. All right. Take it away, Rufus.  All right. There you go.\n",
      "\n",
      "Let's just get started here. Okay, just a moment.  All right.  Oh, sorry.   Thank you.\n",
      "\n",
      "Chris Anderson: And now we go live to Caracas to see one of Maestro Abreu's great proteges. He is the new musical director of the Los Angeles Philharmonic Orchestra. He's the greatest young conductor in the world. Gustavo Dudamel!    Gustavo Dudamel: Hi everybody in L.A. Hi Quincy. Hi Maestro Zander. Hi Mark. We are very happy to have the possibility to be with you in the other side of the world. We can speak only with music. We are very happy because we have the opportunity to have this angel in the world not only in our country, Venezuela, but in our world. He has given us the possibility to have dreams and to make true the dreams. And here are the results of this wonderful project that is The System in Venezuela. We hope to have, our Maestro, to have orchestras in all the countries in all Americas. And we want to play a little piece for you by one of the most important composers of America. A Mexican composer: Arturo Marquez. \"Danzon No. 2.\"\n",
      "\n",
      "Herbie Hancock: Thank you. Marcus Miller.  Harvey Mason.  Thank you. Thank you very much.\n",
      "\n",
      "Here we stand Like an Adam and an Eve Waterfalls The Garden of Eden Two fools in love So beautiful and strong Birds in the trees Are smiling upon them From the age of the dinosaurs Cars would run on gasoline Where? Where have they gone? Now, there's nothing but flowers This was a factory Now there are mountains and rivers You got it, you got it We caught a rattlesnake Now we've got something for dinner You got it, you got it This was a parking lot Now it's all covered with flowers You got it, you got it If this is paradise I wish I had a lawnmower You got it, you got it This was a shopping mall Now it's turned into corn field You got it, you got it Don't leave me stranded here I can't get used to this lifestyle  Thomas Dolby: David Byrne.\n",
      "\n",
      "You learned how to be a diver Put on a mask and believe Gather a dinner of shells for me Take the tank down so you can breathe Below Movements slow You are an island All the secrets until then Pried open I held them Until they were still Until they were still Until they were still    Dream time, I will find you You are shady, you are new I'm not so good at mornings I can see too clearly I prefer the nighttime Dark and blurry Falling night Hovering light Calling night Hovering light In the moontime I will give up my life And in the deep dreams You will find me  [Excerpts from \"Myth and Infrastructure\"] Bruno Giussani: Come back. Miwa Matreyek!\n",
      "\n",
      "Angella Ahn: Thank you.  Thank you so much. We are so honored to be here at TEDWomen, sharing our music with you. What an exciting and inspiring event. What you just heard is \"Skylife\" by David Balakrishnan. We want to play you one more selection. It's by Astor Piazzolla, an Argentine composer. And we talk about different ideas he had this idea that he thought music should be from the heart. This was in the middle of the 20th century when music from the heart, beautiful music, wasn't the most popular thing in the classical music world. It was more atonal and twelve-tone. And he insisted on beautiful music. So this is \"Oblivion\" by Astor Piazzolla. Thank you.\n",
      "\n",
      "\n",
      "\n",
      "Text: BeatJazz. BeatJazz is: 1. Live looping, 2. Jazz improvisation And 3. \"Gestural\" sound design. Accelerometers on each hand read hand position. The color of the lights indicates which sound I am playing. Red = Drums, Blue = Bass, Green = Chords, Orange = Leads, Purple = Pads The mouthpiece consists of ... a button, two guitar picks and lots of hot glue. The heads-up display is a smartphone that displays system parameters. Why? To atomize music culture so that ALL past, present and future genres can be studied and abstracted, live. And \"BeatJazzers\" become as common as D.J.'s. But mostly ... to MAKE the future rather than wait for it.\n",
      "\n",
      "Today I'm going to talk about unexpected discoveries. Now I work in the solar technology industry. And my small startup is looking to force ourselves into the environment by paying attention to ... ... paying attention to crowd-sourcing. It's just a quick video of what we do. Huh. Hang on a moment. It might take a moment to load.  We'll just we can just skip I'll just skip through the video instead ...  No.    This is not ...  Okay.  Solar technology is ... Oh, that's all my time? Okay. Thank you very much.\n",
      "\n",
      "\n",
      "\n",
      "Tommy Mizzone: Tonight we're going to play you two songs. We're three brothers from New Jersey, and the funny thing is that, believe it or not, we are hooked on bluegrass and we're excited to play it for you tonight.   TM: Thank you, thank you.  Robbie Mizzone: Thank you. I'm Robbie Mizzone. I'm 13, and I play the fiddle. This is my brother, Jonny. He's 10, and he plays the banjo. And on guitar is my 14-year-old brother, Tommy.  We call ourselves the Sleepy Man Banjo Boys.   TM: Thank you. JM: Thank you all. TM: Thank you very much.\n",
      "\n",
      "\n",
      "\n",
      "\n",
      "\n",
      "Isadora Duncan  crazy, long-legged woman from San Francisco, got tired of this country, and she wanted to get out. Isadora was famous somewhere around 1908 for putting up a blue curtain, and she would stand with her hands over her solar plexus and she would wait, and she would wait, and then, she would move.  Josh and I and Somi call this piece \"The Red Circle and the Blue Curtain.\" Red circle. Blue curtain. But, this is not the beginning of the 20th century. This is a morning in Vancouver in 2015.   Come on, Josh!   Go! Are we there yet? I don't think so. Hey, yeah!  What time is it?  Where are we? Josh. Somi. Bill T. Josh. Somi. Bill T.  Yeah, yeah!\n",
      "\n",
      "\n",
      "\n",
      "\n",
      "\n",
      "\n",
      "\n"
     ]
    }
   ],
   "source": [
    "word_min_limit = 1000\n",
    "ted_main[ted_main.transcript_len<word_min_limit].index # these are all music performances\n",
    "for index in list(ted_main[ted_main.transcript_len<word_min_limit].index):\n",
    "    print(ted_main['transcript'][index])\n",
    "    print()"
   ]
  },
  {
   "cell_type": "code",
   "execution_count": 19,
   "metadata": {},
   "outputs": [],
   "source": [
    "ted_main = ted_main.loc[ted_main.transcript_len>word_min_limit]"
   ]
  },
  {
   "cell_type": "code",
   "execution_count": 20,
   "metadata": {},
   "outputs": [],
   "source": [
    "ted = ted_main.copy()"
   ]
  },
  {
   "cell_type": "code",
   "execution_count": 21,
   "metadata": {},
   "outputs": [],
   "source": [
    "ted.to_csv('ted_with_script.csv')"
   ]
  },
  {
   "cell_type": "code",
   "execution_count": 22,
   "metadata": {},
   "outputs": [],
   "source": [
    "def find_first_occur_position(text, target, relative = True):\n",
    "    target_first_occur = text.lower().find(target)\n",
    "    if target_first_occur + 1: # if target not found in this text, -1+1 = 0 = False\n",
    "        text_char_length = len(text)\n",
    "        if relative:\n",
    "            first_occur_pos = target_first_occur/text_char_length\n",
    "        else: # return absolute index\n",
    "            first_occur_pos = target_first_occur\n",
    "        return first_occur_pos\n",
    "    return np.nan"
   ]
  },
  {
   "cell_type": "code",
   "execution_count": 23,
   "metadata": {},
   "outputs": [],
   "source": [
    "def locate_first_occur(word, df = ted):\n",
    "    colname = word+'_first_occur_pos'\n",
    "    ted[colname] = ted['transcript'].apply(lambda script: find_first_occur_position(script,word))\n",
    "    ted[colname].hist(bins=40)\n",
    "    "
   ]
  },
  {
   "cell_type": "code",
   "execution_count": 24,
   "metadata": {},
   "outputs": [],
   "source": [
    "def find_all_occur_position(text, target, relative = True):\n",
    "    pos_list = [m.start() for m in re.finditer(target, text)]\n",
    "    pos_list = np.asarray(pos_list)\n",
    "    if len(pos_list)!= 0:\n",
    "        if relative:\n",
    "            pos_list = pos_list/len(text)\n",
    "    return pos_list"
   ]
  },
  {
   "cell_type": "code",
   "execution_count": 25,
   "metadata": {},
   "outputs": [],
   "source": [
    "def locate_all_occur(word, df = ted):\n",
    "    colname = word+'_all_occur_pos'\n",
    "    ted[colname] = ted['transcript'].apply(lambda script: find_all_occur_position(script,word))\n",
    "    total_pos_list = []\n",
    "    for pos_list in ted[colname]:\n",
    "        total_pos_list += list(pos_list)\n",
    "    total_pos_list = np.asarray(total_pos_list)\n",
    "    plt.hist(total_pos_list,bins=40)"
   ]
  },
  {
   "cell_type": "code",
   "execution_count": 26,
   "metadata": {},
   "outputs": [
    {
     "data": {
      "image/png": "[encoded data removed]",
      "text/plain": [
       "<Figure size 432x288 with 1 Axes>"
      ]
     },
     "metadata": {
      "needs_background": "light"
     },
     "output_type": "display_data"
    }
   ],
   "source": [
    "locate_first_occur('story')"
   ]
  },
  {
   "cell_type": "code",
   "execution_count": 27,
   "metadata": {},
   "outputs": [
    {
     "data": {
      "image/png": "[encoded data removed]",
      "text/plain": [
       "<Figure size 432x288 with 1 Axes>"
      ]
     },
     "metadata": {
      "needs_background": "light"
     },
     "output_type": "display_data"
    }
   ],
   "source": [
    "locate_all_occur('story')"
   ]
  },
  {
   "cell_type": "code",
   "execution_count": 28,
   "metadata": {},
   "outputs": [
    {
     "data": {
      "image/png": "[encoded data removed]",
      "text/plain": [
       "<Figure size 432x288 with 1 Axes>"
      ]
     },
     "metadata": {
      "needs_background": "light"
     },
     "output_type": "display_data"
    }
   ],
   "source": [
    "locate_first_occur('example')"
   ]
  },
  {
   "cell_type": "code",
   "execution_count": 29,
   "metadata": {},
   "outputs": [
    {
     "data": {
      "image/png": "[encoded data removed]",
      "text/plain": [
       "<Figure size 432x288 with 1 Axes>"
      ]
     },
     "metadata": {
      "needs_background": "light"
     },
     "output_type": "display_data"
    }
   ],
   "source": [
    "locate_all_occur('example')"
   ]
  },
  {
   "cell_type": "code",
   "execution_count": 30,
   "metadata": {},
   "outputs": [
    {
     "data": {
      "image/png": "[encoded data removed]",
      "text/plain": [
       "<Figure size 432x288 with 1 Axes>"
      ]
     },
     "metadata": {
      "needs_background": "light"
     },
     "output_type": "display_data"
    }
   ],
   "source": [
    "locate_first_occur('however')"
   ]
  },
  {
   "cell_type": "code",
   "execution_count": 31,
   "metadata": {},
   "outputs": [
    {
     "data": {
      "image/png": "[encoded data removed]",
      "text/plain": [
       "<Figure size 432x288 with 1 Axes>"
      ]
     },
     "metadata": {
      "needs_background": "light"
     },
     "output_type": "display_data"
    }
   ],
   "source": [
    "locate_all_occur('however')"
   ]
  },
  {
   "cell_type": "code",
   "execution_count": 32,
   "metadata": {},
   "outputs": [
    {
     "data": {
      "image/png": "[encoded data removed]",
      "text/plain": [
       "<Figure size 432x288 with 1 Axes>"
      ]
     },
     "metadata": {
      "needs_background": "light"
     },
     "output_type": "display_data"
    }
   ],
   "source": [
    "locate_first_occur('but')"
   ]
  },
  {
   "cell_type": "code",
   "execution_count": 33,
   "metadata": {},
   "outputs": [
    {
     "data": {
      "image/png": "[encoded data removed]",
      "text/plain": [
       "<Figure size 432x288 with 1 Axes>"
      ]
     },
     "metadata": {
      "needs_background": "light"
     },
     "output_type": "display_data"
    }
   ],
   "source": [
    "locate_all_occur('but')"
   ]
  },
  {
   "cell_type": "code",
   "execution_count": 34,
   "metadata": {
    "scrolled": true
   },
   "outputs": [
    {
     "data": {
      "image/png": "[encoded data removed]",
      "text/plain": [
       "<Figure size 432x288 with 1 Axes>"
      ]
     },
     "metadata": {
      "needs_background": "light"
     },
     "output_type": "display_data"
    }
   ],
   "source": [
    "locate_first_occur('and')"
   ]
  },
  {
   "cell_type": "code",
   "execution_count": 35,
   "metadata": {
    "scrolled": true
   },
   "outputs": [
    {
     "data": {
      "image/png": "[encoded data removed]",
      "text/plain": [
       "<Figure size 432x288 with 1 Axes>"
      ]
     },
     "metadata": {
      "needs_background": "light"
     },
     "output_type": "display_data"
    }
   ],
   "source": [
    "locate_all_occur('and')"
   ]
  },
  {
   "cell_type": "code",
   "execution_count": 36,
   "metadata": {
    "scrolled": true
   },
   "outputs": [
    {
     "data": {
      "image/png": "[encoded data removed]",
      "text/plain": [
       "<Figure size 432x288 with 1 Axes>"
      ]
     },
     "metadata": {
      "needs_background": "light"
     },
     "output_type": "display_data"
    }
   ],
   "source": [
    "locate_first_occur('if')"
   ]
  },
  {
   "cell_type": "code",
   "execution_count": 37,
   "metadata": {
    "scrolled": true
   },
   "outputs": [
    {
     "data": {
      "image/png": "[encoded data removed]",
      "text/plain": [
       "<Figure size 432x288 with 1 Axes>"
      ]
     },
     "metadata": {
      "needs_background": "light"
     },
     "output_type": "display_data"
    }
   ],
   "source": [
    "locate_all_occur('if')"
   ]
  },
  {
   "cell_type": "code",
   "execution_count": 38,
   "metadata": {},
   "outputs": [],
   "source": [
    "def pola_subj_sequence(script, level):\n",
    "    script = TextBlob(script)\n",
    "    \n",
    "    sd_p,sd_pola,sd_subj = [],[],[]\n",
    "\n",
    "    if level == \"words\":\n",
    "        ls = script.words\n",
    "    elif level == \"noun_phrases\":\n",
    "        ls = script.noun_phrases\n",
    "    elif level == \"sentences\":\n",
    "        ls = [str(s) for s in script.sentences]\n",
    "        \n",
    "    for p in ls:\n",
    "        p_ = TextBlob(p)\n",
    "        sd_p.append(p)\n",
    "        sd_pola.append(p_.sentiment[0])\n",
    "        sd_subj.append(p_.sentiment[1])\n",
    "\n",
    "    return np.asarray(sd_p),np.asarray(sd_pola),np.asarray(sd_subj)"
   ]
  },
  {
   "cell_type": "code",
   "execution_count": 39,
   "metadata": {},
   "outputs": [],
   "source": [
    "def running_mean(x, N):\n",
    "    cumsum = np.cumsum(np.insert(x, 0, 0)) \n",
    "    return (cumsum[N:] - cumsum[:-N]) / float(N)"
   ]
  },
  {
   "cell_type": "code",
   "execution_count": 40,
   "metadata": {},
   "outputs": [],
   "source": [
    "def three_graph(indices):\n",
    "    plt.figure(figsize=(10, 6))\n",
    "\n",
    "    # TOP 1\n",
    "    plt.subplot(231)\n",
    "    script = ted['transcript'][indices[0]]     # control which talk\n",
    "    axes = plt.gca()\n",
    "    axes.set_ylim([-1,1])\n",
    "    plt.plot(pola_subj_sequence(script,'sentences')[1])\n",
    "\n",
    "    # DOWN 1\n",
    "    plt.subplot(234)\n",
    "    sentences_pola = pola_subj_sequence(script,'sentences')[1]\n",
    "    axes = plt.gca()\n",
    "    #axes.set_xlim([xmin,xmax])\n",
    "    axes.set_ylim([-0.4,0.4])\n",
    "    plt.plot(running_mean(sentences_pola, 5),c = 'orange')\n",
    "    plt.plot(running_mean(sentences_pola, 10),c = 'green')\n",
    "    plt.plot(running_mean(sentences_pola, 20),c = 'blue')\n",
    "\n",
    "\n",
    "    # TOP 2\n",
    "    plt.subplot(232)\n",
    "    script = ted['transcript'][indices[1]]     # control which talk\n",
    "    axes = plt.gca()\n",
    "    axes.set_ylim([-1,1])\n",
    "    plt.plot(pola_subj_sequence(script,'sentences')[1])\n",
    "\n",
    "    # DOWN 2\n",
    "    plt.subplot(235)\n",
    "    sentences_pola = pola_subj_sequence(script,'sentences')[1]\n",
    "    axes = plt.gca()\n",
    "    #axes.set_xlim([xmin,xmax])\n",
    "    axes.set_ylim([-0.4,0.4])\n",
    "    plt.plot(running_mean(sentences_pola, 5),c = 'orange')\n",
    "    plt.plot(running_mean(sentences_pola, 10),c = 'green')\n",
    "    plt.plot(running_mean(sentences_pola, 20),c = 'blue')\n",
    "\n",
    "    # TOP 3\n",
    "    plt.subplot(233)\n",
    "    script = ted['transcript'][indices[2]]     # control which talk\n",
    "    axes = plt.gca()\n",
    "    axes.set_ylim([-1,1])\n",
    "    plt.plot(pola_subj_sequence(script,'sentences')[1])\n",
    "\n",
    "    # DOWN 3\n",
    "    plt.subplot(236)\n",
    "    sentences_pola = pola_subj_sequence(script,'sentences')[1]\n",
    "    axes = plt.gca()\n",
    "    #axes.set_xlim([xmin,xmax])\n",
    "    axes.set_ylim([-0.4,0.4])\n",
    "    plt.plot(running_mean(sentences_pola, 5),c = 'orange')\n",
    "    plt.plot(running_mean(sentences_pola, 10),c = 'green')\n",
    "    plt.plot(running_mean(sentences_pola, 20),c = 'blue')"
   ]
  },
  {
   "cell_type": "markdown",
   "metadata": {},
   "source": [
    "## Pos/Neg Emotion Extremes"
   ]
  },
  {
   "cell_type": "code",
   "execution_count": 41,
   "metadata": {},
   "outputs": [],
   "source": [
    "ted_emotion = pd.read_csv('TED_Talks_by_ID_plus-transcripts-and-LIWC-and-MFT-plus-views.csv')[['headline']+['affect', 'posemo', 'negemo', 'anx', 'anger', 'sad']]"
   ]
  },
  {
   "cell_type": "code",
   "execution_count": 42,
   "metadata": {},
   "outputs": [],
   "source": [
    "ted = pd.merge(ted,ted_emotion,on='headline')"
   ]
  },
  {
   "cell_type": "code",
   "execution_count": 43,
   "metadata": {},
   "outputs": [
    {
     "data": {
      "text/plain": [
       "2284"
      ]
     },
     "execution_count": 43,
     "metadata": {},
     "output_type": "execute_result"
    }
   ],
   "source": [
    "len(ted)"
   ]
  },
  {
   "cell_type": "code",
   "execution_count": 44,
   "metadata": {},
   "outputs": [],
   "source": [
    "ted['pos-neg'] = ted['posemo'] - ted['negemo']"
   ]
  },
  {
   "cell_type": "code",
   "execution_count": 45,
   "metadata": {},
   "outputs": [],
   "source": [
    "#ted_copy = ted.copy()"
   ]
  },
  {
   "cell_type": "markdown",
   "metadata": {},
   "source": [
    "### Most Positive\n",
    "index: 853, 329, 880"
   ]
  },
  {
   "cell_type": "code",
   "execution_count": 46,
   "metadata": {
    "scrolled": true
   },
   "outputs": [
    {
     "data": {
      "text/html": [
       "<div>\n",
       "<style scoped>\n",
       "    .dataframe tbody tr th:only-of-type {\n",
       "        vertical-align: middle;\n",
       "    }\n",
       "\n",
       "    .dataframe tbody tr th {\n",
       "        vertical-align: top;\n",
       "    }\n",
       "\n",
       "    .dataframe thead th {\n",
       "        text-align: right;\n",
       "    }\n",
       "</style>\n",
       "<table border=\"1\" class=\"dataframe\">\n",
       "  <thead>\n",
       "    <tr style=\"text-align: right;\">\n",
       "      <th></th>\n",
       "      <th>headline</th>\n",
       "      <th>posemo</th>\n",
       "      <th>negemo</th>\n",
       "      <th>pos-neg</th>\n",
       "      <th>transcript</th>\n",
       "    </tr>\n",
       "  </thead>\n",
       "  <tbody>\n",
       "    <tr>\n",
       "      <th>853</th>\n",
       "      <td>Everyday compassion at Google</td>\n",
       "      <td>8.52</td>\n",
       "      <td>0.22</td>\n",
       "      <td>8.30</td>\n",
       "      <td>So what does the happiest man in the world loo...</td>\n",
       "    </tr>\n",
       "    <tr>\n",
       "      <th>329</th>\n",
       "      <td>Do the green thing</td>\n",
       "      <td>9.23</td>\n",
       "      <td>1.29</td>\n",
       "      <td>7.94</td>\n",
       "      <td>Great creativity. In times of need, we need gr...</td>\n",
       "    </tr>\n",
       "    <tr>\n",
       "      <th>880</th>\n",
       "      <td>The hidden power of smiling</td>\n",
       "      <td>7.83</td>\n",
       "      <td>0.92</td>\n",
       "      <td>6.91</td>\n",
       "      <td>When I was a child, I always wanted to be a su...</td>\n",
       "    </tr>\n",
       "    <tr>\n",
       "      <th>15</th>\n",
       "      <td>An 11-year-old's magical violin</td>\n",
       "      <td>7.22</td>\n",
       "      <td>0.41</td>\n",
       "      <td>6.81</td>\n",
       "      <td>Hi, everyone. I'm Sirena. I'm 11 years old and...</td>\n",
       "    </tr>\n",
       "    <tr>\n",
       "      <th>1473</th>\n",
       "      <td>What we don't understand about trust</td>\n",
       "      <td>7.40</td>\n",
       "      <td>0.78</td>\n",
       "      <td>6.62</td>\n",
       "      <td>So I'm going to talk about trust, and I'm goin...</td>\n",
       "    </tr>\n",
       "  </tbody>\n",
       "</table>\n",
       "</div>"
      ],
      "text/plain": [
       "                                  headline  posemo  negemo  pos-neg  \\\n",
       "853          Everyday compassion at Google    8.52    0.22     8.30   \n",
       "329                     Do the green thing    9.23    1.29     7.94   \n",
       "880            The hidden power of smiling    7.83    0.92     6.91   \n",
       "15         An 11-year-old's magical violin    7.22    0.41     6.81   \n",
       "1473  What we don't understand about trust    7.40    0.78     6.62   \n",
       "\n",
       "                                             transcript  \n",
       "853   So what does the happiest man in the world loo...  \n",
       "329   Great creativity. In times of need, we need gr...  \n",
       "880   When I was a child, I always wanted to be a su...  \n",
       "15    Hi, everyone. I'm Sirena. I'm 11 years old and...  \n",
       "1473  So I'm going to talk about trust, and I'm goin...  "
      ]
     },
     "execution_count": 46,
     "metadata": {},
     "output_type": "execute_result"
    }
   ],
   "source": [
    "ted.sort_values(by = 'pos-neg',ascending = False)[['headline','posemo','negemo','pos-neg','transcript']].head()"
   ]
  },
  {
   "cell_type": "code",
   "execution_count": 47,
   "metadata": {},
   "outputs": [
    {
     "data": {
      "text/html": [
       "<div>\n",
       "<style scoped>\n",
       "    .dataframe tbody tr th:only-of-type {\n",
       "        vertical-align: middle;\n",
       "    }\n",
       "\n",
       "    .dataframe tbody tr th {\n",
       "        vertical-align: top;\n",
       "    }\n",
       "\n",
       "    .dataframe thead th {\n",
       "        text-align: right;\n",
       "    }\n",
       "</style>\n",
       "<table border=\"1\" class=\"dataframe\">\n",
       "  <thead>\n",
       "    <tr style=\"text-align: right;\">\n",
       "      <th></th>\n",
       "      <th>headline</th>\n",
       "      <th>posemo</th>\n",
       "      <th>negemo</th>\n",
       "      <th>pos-neg</th>\n",
       "      <th>transcript</th>\n",
       "    </tr>\n",
       "  </thead>\n",
       "  <tbody>\n",
       "    <tr>\n",
       "      <th>329</th>\n",
       "      <td>Do the green thing</td>\n",
       "      <td>9.23</td>\n",
       "      <td>1.29</td>\n",
       "      <td>7.94</td>\n",
       "      <td>Great creativity. In times of need, we need gr...</td>\n",
       "    </tr>\n",
       "    <tr>\n",
       "      <th>853</th>\n",
       "      <td>Everyday compassion at Google</td>\n",
       "      <td>8.52</td>\n",
       "      <td>0.22</td>\n",
       "      <td>8.30</td>\n",
       "      <td>So what does the happiest man in the world loo...</td>\n",
       "    </tr>\n",
       "    <tr>\n",
       "      <th>265</th>\n",
       "      <td>\"The Dog Song\"</td>\n",
       "      <td>8.42</td>\n",
       "      <td>3.41</td>\n",
       "      <td>5.01</td>\n",
       "      <td>Id like to dedicate this next song to Carmelo,...</td>\n",
       "    </tr>\n",
       "    <tr>\n",
       "      <th>880</th>\n",
       "      <td>The hidden power of smiling</td>\n",
       "      <td>7.83</td>\n",
       "      <td>0.92</td>\n",
       "      <td>6.91</td>\n",
       "      <td>When I was a child, I always wanted to be a su...</td>\n",
       "    </tr>\n",
       "    <tr>\n",
       "      <th>1675</th>\n",
       "      <td>Please, please, people. Let's put the 'awe' ba...</td>\n",
       "      <td>7.65</td>\n",
       "      <td>1.22</td>\n",
       "      <td>6.43</td>\n",
       "      <td>How many times have you used the word \"awesome...</td>\n",
       "    </tr>\n",
       "  </tbody>\n",
       "</table>\n",
       "</div>"
      ],
      "text/plain": [
       "                                               headline  posemo  negemo  \\\n",
       "329                                  Do the green thing    9.23    1.29   \n",
       "853                       Everyday compassion at Google    8.52    0.22   \n",
       "265                                      \"The Dog Song\"    8.42    3.41   \n",
       "880                         The hidden power of smiling    7.83    0.92   \n",
       "1675  Please, please, people. Let's put the 'awe' ba...    7.65    1.22   \n",
       "\n",
       "      pos-neg                                         transcript  \n",
       "329      7.94  Great creativity. In times of need, we need gr...  \n",
       "853      8.30  So what does the happiest man in the world loo...  \n",
       "265      5.01  Id like to dedicate this next song to Carmelo,...  \n",
       "880      6.91  When I was a child, I always wanted to be a su...  \n",
       "1675     6.43  How many times have you used the word \"awesome...  "
      ]
     },
     "execution_count": 47,
     "metadata": {},
     "output_type": "execute_result"
    }
   ],
   "source": [
    "ted.sort_values(by = 'posemo',ascending = False)[['headline','posemo','negemo','pos-neg','transcript']].head()"
   ]
  },
  {
   "cell_type": "markdown",
   "metadata": {},
   "source": [
    "### Most Negative\n",
    "index: 981, 1448, 1009"
   ]
  },
  {
   "cell_type": "code",
   "execution_count": 48,
   "metadata": {
    "scrolled": true
   },
   "outputs": [
    {
     "data": {
      "text/html": [
       "<div>\n",
       "<style scoped>\n",
       "    .dataframe tbody tr th:only-of-type {\n",
       "        vertical-align: middle;\n",
       "    }\n",
       "\n",
       "    .dataframe tbody tr th {\n",
       "        vertical-align: top;\n",
       "    }\n",
       "\n",
       "    .dataframe thead th {\n",
       "        text-align: right;\n",
       "    }\n",
       "</style>\n",
       "<table border=\"1\" class=\"dataframe\">\n",
       "  <thead>\n",
       "    <tr style=\"text-align: right;\">\n",
       "      <th></th>\n",
       "      <th>headline</th>\n",
       "      <th>posemo</th>\n",
       "      <th>negemo</th>\n",
       "      <th>pos-neg</th>\n",
       "      <th>transcript</th>\n",
       "    </tr>\n",
       "  </thead>\n",
       "  <tbody>\n",
       "    <tr>\n",
       "      <th>981</th>\n",
       "      <td>How cyberattacks threaten real-world peace</td>\n",
       "      <td>1.75</td>\n",
       "      <td>6.53</td>\n",
       "      <td>-4.78</td>\n",
       "      <td>Good afternoon. If you have followed diplomati...</td>\n",
       "    </tr>\n",
       "    <tr>\n",
       "      <th>1448</th>\n",
       "      <td>For argument's sake</td>\n",
       "      <td>4.26</td>\n",
       "      <td>8.40</td>\n",
       "      <td>-4.14</td>\n",
       "      <td>My name is Dan Cohen and I am an academic, as ...</td>\n",
       "    </tr>\n",
       "    <tr>\n",
       "      <th>1009</th>\n",
       "      <td>Philosophy in prison</td>\n",
       "      <td>1.28</td>\n",
       "      <td>4.82</td>\n",
       "      <td>-3.54</td>\n",
       "      <td>Meet Tony. He's my student. He's about my age,...</td>\n",
       "    </tr>\n",
       "    <tr>\n",
       "      <th>2031</th>\n",
       "      <td>Our lonely society makes it hard to come home ...</td>\n",
       "      <td>1.71</td>\n",
       "      <td>5.03</td>\n",
       "      <td>-3.32</td>\n",
       "      <td>I worked as a war reporter for 15 years before...</td>\n",
       "    </tr>\n",
       "    <tr>\n",
       "      <th>1670</th>\n",
       "      <td>Everyday objects, tragic histories</td>\n",
       "      <td>1.39</td>\n",
       "      <td>4.64</td>\n",
       "      <td>-3.25</td>\n",
       "      <td>These are simple objects: clocks, keys, combs,...</td>\n",
       "    </tr>\n",
       "  </tbody>\n",
       "</table>\n",
       "</div>"
      ],
      "text/plain": [
       "                                               headline  posemo  negemo  \\\n",
       "981          How cyberattacks threaten real-world peace    1.75    6.53   \n",
       "1448                                For argument's sake    4.26    8.40   \n",
       "1009                               Philosophy in prison    1.28    4.82   \n",
       "2031  Our lonely society makes it hard to come home ...    1.71    5.03   \n",
       "1670                 Everyday objects, tragic histories    1.39    4.64   \n",
       "\n",
       "      pos-neg                                         transcript  \n",
       "981     -4.78  Good afternoon. If you have followed diplomati...  \n",
       "1448    -4.14  My name is Dan Cohen and I am an academic, as ...  \n",
       "1009    -3.54  Meet Tony. He's my student. He's about my age,...  \n",
       "2031    -3.32  I worked as a war reporter for 15 years before...  \n",
       "1670    -3.25  These are simple objects: clocks, keys, combs,...  "
      ]
     },
     "execution_count": 48,
     "metadata": {},
     "output_type": "execute_result"
    }
   ],
   "source": [
    "ted.sort_values(by = 'pos-neg',ascending = True)[['headline','posemo','negemo','pos-neg','transcript']].head()"
   ]
  },
  {
   "cell_type": "code",
   "execution_count": 49,
   "metadata": {},
   "outputs": [
    {
     "data": {
      "text/html": [
       "<div>\n",
       "<style scoped>\n",
       "    .dataframe tbody tr th:only-of-type {\n",
       "        vertical-align: middle;\n",
       "    }\n",
       "\n",
       "    .dataframe tbody tr th {\n",
       "        vertical-align: top;\n",
       "    }\n",
       "\n",
       "    .dataframe thead th {\n",
       "        text-align: right;\n",
       "    }\n",
       "</style>\n",
       "<table border=\"1\" class=\"dataframe\">\n",
       "  <thead>\n",
       "    <tr style=\"text-align: right;\">\n",
       "      <th></th>\n",
       "      <th>headline</th>\n",
       "      <th>posemo</th>\n",
       "      <th>negemo</th>\n",
       "      <th>pos-neg</th>\n",
       "      <th>transcript</th>\n",
       "    </tr>\n",
       "  </thead>\n",
       "  <tbody>\n",
       "    <tr>\n",
       "      <th>1448</th>\n",
       "      <td>For argument's sake</td>\n",
       "      <td>4.26</td>\n",
       "      <td>8.40</td>\n",
       "      <td>-4.14</td>\n",
       "      <td>My name is Dan Cohen and I am an academic, as ...</td>\n",
       "    </tr>\n",
       "    <tr>\n",
       "      <th>981</th>\n",
       "      <td>How cyberattacks threaten real-world peace</td>\n",
       "      <td>1.75</td>\n",
       "      <td>6.53</td>\n",
       "      <td>-4.78</td>\n",
       "      <td>Good afternoon. If you have followed diplomati...</td>\n",
       "    </tr>\n",
       "    <tr>\n",
       "      <th>2256</th>\n",
       "      <td>There's no shame in taking care of your mental...</td>\n",
       "      <td>3.24</td>\n",
       "      <td>6.17</td>\n",
       "      <td>-2.93</td>\n",
       "      <td>Last year ... was hell.  It was my first time ...</td>\n",
       "    </tr>\n",
       "    <tr>\n",
       "      <th>912</th>\n",
       "      <td>A civil response to violence</td>\n",
       "      <td>2.70</td>\n",
       "      <td>5.70</td>\n",
       "      <td>-3.00</td>\n",
       "      <td>My name is Emiliano Salinas and I'm going to t...</td>\n",
       "    </tr>\n",
       "    <tr>\n",
       "      <th>1037</th>\n",
       "      <td>\"Women of Hope\"</td>\n",
       "      <td>4.09</td>\n",
       "      <td>5.56</td>\n",
       "      <td>-1.47</td>\n",
       "      <td>They stood together under a tree in tall grass...</td>\n",
       "    </tr>\n",
       "  </tbody>\n",
       "</table>\n",
       "</div>"
      ],
      "text/plain": [
       "                                               headline  posemo  negemo  \\\n",
       "1448                                For argument's sake    4.26    8.40   \n",
       "981          How cyberattacks threaten real-world peace    1.75    6.53   \n",
       "2256  There's no shame in taking care of your mental...    3.24    6.17   \n",
       "912                        A civil response to violence    2.70    5.70   \n",
       "1037                                    \"Women of Hope\"    4.09    5.56   \n",
       "\n",
       "      pos-neg                                         transcript  \n",
       "1448    -4.14  My name is Dan Cohen and I am an academic, as ...  \n",
       "981     -4.78  Good afternoon. If you have followed diplomati...  \n",
       "2256    -2.93  Last year ... was hell.  It was my first time ...  \n",
       "912     -3.00  My name is Emiliano Salinas and I'm going to t...  \n",
       "1037    -1.47  They stood together under a tree in tall grass...  "
      ]
     },
     "execution_count": 49,
     "metadata": {},
     "output_type": "execute_result"
    }
   ],
   "source": [
    "ted.sort_values(by = 'negemo',ascending = False)[['headline','posemo','negemo','pos-neg','transcript']].head()"
   ]
  },
  {
   "cell_type": "markdown",
   "metadata": {},
   "source": [
    "### Top 3 Positive"
   ]
  },
  {
   "cell_type": "code",
   "execution_count": 50,
   "metadata": {},
   "outputs": [
    {
     "data": {
      "text/plain": [
       "853    So what does the happiest man in the world loo...\n",
       "329    Great creativity. In times of need, we need gr...\n",
       "880    When I was a child, I always wanted to be a su...\n",
       "Name: transcript, dtype: object"
      ]
     },
     "execution_count": 50,
     "metadata": {},
     "output_type": "execute_result"
    }
   ],
   "source": [
    "indices = [853, 329, 880]\n",
    "ted.iloc[indices,:]['transcript']"
   ]
  },
  {
   "cell_type": "code",
   "execution_count": 51,
   "metadata": {},
   "outputs": [
    {
     "data": {
      "image/png": "[encoded data removed]",
      "text/plain": [
       "<Figure size 720x432 with 6 Axes>"
      ]
     },
     "metadata": {
      "needs_background": "light"
     },
     "output_type": "display_data"
    }
   ],
   "source": [
    "three_graph(indices)"
   ]
  },
  {
   "cell_type": "markdown",
   "metadata": {},
   "source": [
    "### Top 3 Negative"
   ]
  },
  {
   "cell_type": "code",
   "execution_count": 52,
   "metadata": {},
   "outputs": [
    {
     "data": {
      "text/plain": [
       "981     Good afternoon. If you have followed diplomati...\n",
       "1448    My name is Dan Cohen and I am an academic, as ...\n",
       "1009    Meet Tony. He's my student. He's about my age,...\n",
       "Name: transcript, dtype: object"
      ]
     },
     "execution_count": 52,
     "metadata": {},
     "output_type": "execute_result"
    }
   ],
   "source": [
    "indices = [981, 1448, 1009]\n",
    "ted.iloc[indices,:]['transcript']"
   ]
  },
  {
   "cell_type": "code",
   "execution_count": 53,
   "metadata": {},
   "outputs": [
    {
     "data": {
      "image/png": "[encoded data removed]",
      "text/plain": [
       "<Figure size 720x432 with 6 Axes>"
      ]
     },
     "metadata": {
      "needs_background": "light"
     },
     "output_type": "display_data"
    }
   ],
   "source": [
    "three_graph(indices)"
   ]
  },
  {
   "cell_type": "markdown",
   "metadata": {},
   "source": [
    "## Most Viewed"
   ]
  },
  {
   "cell_type": "code",
   "execution_count": 54,
   "metadata": {
    "scrolled": true
   },
   "outputs": [
    {
     "data": {
      "text/plain": [
       "Index(['comments', 'description', 'duration', 'event', 'film_date',\n",
       "       'languages', 'main_speaker', 'name', 'num_speaker', 'published_date',\n",
       "       'ratings', 'related_talks', 'speaker_occupation', 'tags', 'headline',\n",
       "       'url', 'views', 'transcript', 'raw_transcript', 'transcript_len',\n",
       "       'story_first_occur_pos', 'story_all_occur_pos',\n",
       "       'example_first_occur_pos', 'example_all_occur_pos',\n",
       "       'however_first_occur_pos', 'however_all_occur_pos',\n",
       "       'but_first_occur_pos', 'but_all_occur_pos', 'and_first_occur_pos',\n",
       "       'and_all_occur_pos', 'if_first_occur_pos', 'if_all_occur_pos', 'affect',\n",
       "       'posemo', 'negemo', 'anx', 'anger', 'sad', 'pos-neg'],\n",
       "      dtype='object')"
      ]
     },
     "execution_count": 54,
     "metadata": {},
     "output_type": "execute_result"
    }
   ],
   "source": [
    "ted.columns"
   ]
  },
  {
   "cell_type": "code",
   "execution_count": 55,
   "metadata": {},
   "outputs": [
    {
     "data": {
      "text/html": [
       "<div>\n",
       "<style scoped>\n",
       "    .dataframe tbody tr th:only-of-type {\n",
       "        vertical-align: middle;\n",
       "    }\n",
       "\n",
       "    .dataframe tbody tr th {\n",
       "        vertical-align: top;\n",
       "    }\n",
       "\n",
       "    .dataframe thead th {\n",
       "        text-align: right;\n",
       "    }\n",
       "</style>\n",
       "<table border=\"1\" class=\"dataframe\">\n",
       "  <thead>\n",
       "    <tr style=\"text-align: right;\">\n",
       "      <th></th>\n",
       "      <th>headline</th>\n",
       "      <th>views</th>\n",
       "      <th>film_date</th>\n",
       "      <th>published_date</th>\n",
       "      <th>posemo</th>\n",
       "      <th>negemo</th>\n",
       "      <th>pos-neg</th>\n",
       "      <th>transcript</th>\n",
       "    </tr>\n",
       "  </thead>\n",
       "  <tbody>\n",
       "    <tr>\n",
       "      <th>0</th>\n",
       "      <td>Do schools kill creativity?</td>\n",
       "      <td>47227110</td>\n",
       "      <td>2006/02/25</td>\n",
       "      <td>2006/06/27</td>\n",
       "      <td>3.63</td>\n",
       "      <td>0.95</td>\n",
       "      <td>2.68</td>\n",
       "      <td>Good morning. How are you?  It's been great, h...</td>\n",
       "    </tr>\n",
       "    <tr>\n",
       "      <th>637</th>\n",
       "      <td>How great leaders inspire action</td>\n",
       "      <td>34309432</td>\n",
       "      <td>2009/09/17</td>\n",
       "      <td>2010/05/04</td>\n",
       "      <td>2.68</td>\n",
       "      <td>0.61</td>\n",
       "      <td>2.07</td>\n",
       "      <td>How do you explain when things don't go as we ...</td>\n",
       "    </tr>\n",
       "    <tr>\n",
       "      <th>786</th>\n",
       "      <td>The power of vulnerability</td>\n",
       "      <td>31168150</td>\n",
       "      <td>2010/06/06</td>\n",
       "      <td>2010/12/23</td>\n",
       "      <td>3.71</td>\n",
       "      <td>3.05</td>\n",
       "      <td>0.66</td>\n",
       "      <td>So, I'll start with this: a couple years ago, ...</td>\n",
       "    </tr>\n",
       "    <tr>\n",
       "      <th>434</th>\n",
       "      <td>10 things you didn't know about orgasm</td>\n",
       "      <td>22270883</td>\n",
       "      <td>2009/02/06</td>\n",
       "      <td>2009/05/20</td>\n",
       "      <td>3.79</td>\n",
       "      <td>0.60</td>\n",
       "      <td>3.19</td>\n",
       "      <td>Alright. I'm going to show you a couple of ima...</td>\n",
       "    </tr>\n",
       "    <tr>\n",
       "      <th>1642</th>\n",
       "      <td>How to speak so that people want to listen</td>\n",
       "      <td>21594632</td>\n",
       "      <td>2013/06/10</td>\n",
       "      <td>2014/06/27</td>\n",
       "      <td>4.13</td>\n",
       "      <td>1.66</td>\n",
       "      <td>2.47</td>\n",
       "      <td>The human voice: It's the instrument we all pl...</td>\n",
       "    </tr>\n",
       "  </tbody>\n",
       "</table>\n",
       "</div>"
      ],
      "text/plain": [
       "                                        headline     views   film_date  \\\n",
       "0                    Do schools kill creativity?  47227110  2006/02/25   \n",
       "637             How great leaders inspire action  34309432  2009/09/17   \n",
       "786                   The power of vulnerability  31168150  2010/06/06   \n",
       "434       10 things you didn't know about orgasm  22270883  2009/02/06   \n",
       "1642  How to speak so that people want to listen  21594632  2013/06/10   \n",
       "\n",
       "     published_date  posemo  negemo  pos-neg  \\\n",
       "0        2006/06/27    3.63    0.95     2.68   \n",
       "637      2010/05/04    2.68    0.61     2.07   \n",
       "786      2010/12/23    3.71    3.05     0.66   \n",
       "434      2009/05/20    3.79    0.60     3.19   \n",
       "1642     2014/06/27    4.13    1.66     2.47   \n",
       "\n",
       "                                             transcript  \n",
       "0     Good morning. How are you?  It's been great, h...  \n",
       "637   How do you explain when things don't go as we ...  \n",
       "786   So, I'll start with this: a couple years ago, ...  \n",
       "434   Alright. I'm going to show you a couple of ima...  \n",
       "1642  The human voice: It's the instrument we all pl...  "
      ]
     },
     "execution_count": 55,
     "metadata": {},
     "output_type": "execute_result"
    }
   ],
   "source": [
    "most_viewed_data = ted.sort_values(by = 'views',ascending = False)[['headline','views','film_date','published_date','posemo','negemo','pos-neg','transcript']].head()\n",
    "most_viewed_indices = most_viewed_data.index\n",
    "most_viewed_data"
   ]
  },
  {
   "cell_type": "code",
   "execution_count": 56,
   "metadata": {},
   "outputs": [
    {
     "data": {
      "text/html": [
       "<div>\n",
       "<style scoped>\n",
       "    .dataframe tbody tr th:only-of-type {\n",
       "        vertical-align: middle;\n",
       "    }\n",
       "\n",
       "    .dataframe tbody tr th {\n",
       "        vertical-align: top;\n",
       "    }\n",
       "\n",
       "    .dataframe thead th {\n",
       "        text-align: right;\n",
       "    }\n",
       "</style>\n",
       "<table border=\"1\" class=\"dataframe\">\n",
       "  <thead>\n",
       "    <tr style=\"text-align: right;\">\n",
       "      <th></th>\n",
       "      <th>headline</th>\n",
       "      <th>views</th>\n",
       "      <th>film_date</th>\n",
       "      <th>published_date</th>\n",
       "      <th>posemo</th>\n",
       "      <th>negemo</th>\n",
       "      <th>pos-neg</th>\n",
       "      <th>transcript</th>\n",
       "    </tr>\n",
       "  </thead>\n",
       "  <tbody>\n",
       "    <tr>\n",
       "      <th>1042</th>\n",
       "      <td>Plant fuels that could power a jet</td>\n",
       "      <td>155895</td>\n",
       "      <td>2011/08/17</td>\n",
       "      <td>2012/01/21</td>\n",
       "      <td>2.05</td>\n",
       "      <td>0.56</td>\n",
       "      <td>1.49</td>\n",
       "      <td>What I'm going to do is, I'm going to explain ...</td>\n",
       "    </tr>\n",
       "    <tr>\n",
       "      <th>1147</th>\n",
       "      <td>A new way to stop identity theft</td>\n",
       "      <td>174326</td>\n",
       "      <td>2012/04/27</td>\n",
       "      <td>2012/06/03</td>\n",
       "      <td>2.28</td>\n",
       "      <td>1.08</td>\n",
       "      <td>1.20</td>\n",
       "      <td>So I thought I'd talk about identity. That's s...</td>\n",
       "    </tr>\n",
       "    <tr>\n",
       "      <th>308</th>\n",
       "      <td>The balancing act of compassion</td>\n",
       "      <td>176245</td>\n",
       "      <td>2009/10/01</td>\n",
       "      <td>2008/10/31</td>\n",
       "      <td>4.04</td>\n",
       "      <td>1.07</td>\n",
       "      <td>2.97</td>\n",
       "      <td>One of my favorite cartoon characters is Snoop...</td>\n",
       "    </tr>\n",
       "    <tr>\n",
       "      <th>279</th>\n",
       "      <td>The camel's hump</td>\n",
       "      <td>185275</td>\n",
       "      <td>2002/02/02</td>\n",
       "      <td>2008/09/15</td>\n",
       "      <td>2.47</td>\n",
       "      <td>1.00</td>\n",
       "      <td>1.47</td>\n",
       "      <td>[SHIT] This is arguably the back end of the de...</td>\n",
       "    </tr>\n",
       "    <tr>\n",
       "      <th>301</th>\n",
       "      <td>Nature vs. humans</td>\n",
       "      <td>197139</td>\n",
       "      <td>1998/02/02</td>\n",
       "      <td>2008/10/22</td>\n",
       "      <td>2.98</td>\n",
       "      <td>0.72</td>\n",
       "      <td>2.26</td>\n",
       "      <td>You hear that this is the era of environment o...</td>\n",
       "    </tr>\n",
       "  </tbody>\n",
       "</table>\n",
       "</div>"
      ],
      "text/plain": [
       "                                headline   views   film_date published_date  \\\n",
       "1042  Plant fuels that could power a jet  155895  2011/08/17     2012/01/21   \n",
       "1147    A new way to stop identity theft  174326  2012/04/27     2012/06/03   \n",
       "308      The balancing act of compassion  176245  2009/10/01     2008/10/31   \n",
       "279                     The camel's hump  185275  2002/02/02     2008/09/15   \n",
       "301                    Nature vs. humans  197139  1998/02/02     2008/10/22   \n",
       "\n",
       "      posemo  negemo  pos-neg  \\\n",
       "1042    2.05    0.56     1.49   \n",
       "1147    2.28    1.08     1.20   \n",
       "308     4.04    1.07     2.97   \n",
       "279     2.47    1.00     1.47   \n",
       "301     2.98    0.72     2.26   \n",
       "\n",
       "                                             transcript  \n",
       "1042  What I'm going to do is, I'm going to explain ...  \n",
       "1147  So I thought I'd talk about identity. That's s...  \n",
       "308   One of my favorite cartoon characters is Snoop...  \n",
       "279   [SHIT] This is arguably the back end of the de...  \n",
       "301   You hear that this is the era of environment o...  "
      ]
     },
     "execution_count": 56,
     "metadata": {},
     "output_type": "execute_result"
    }
   ],
   "source": [
    "least_viewed_data = ted.sort_values(by = 'views',ascending = True)[['headline','views','film_date','published_date','posemo','negemo','pos-neg','transcript']].head()\n",
    "least_viewed_indices = least_viewed_data.index\n",
    "least_viewed_data"
   ]
  },
  {
   "cell_type": "markdown",
   "metadata": {},
   "source": [
    "### Does the publish time matter?"
   ]
  },
  {
   "cell_type": "code",
   "execution_count": 57,
   "metadata": {},
   "outputs": [],
   "source": [
    "ted['year'] = ted['published_date'].apply(lambda string: int(string.split('/')[0]))"
   ]
  },
  {
   "cell_type": "code",
   "execution_count": 58,
   "metadata": {},
   "outputs": [
    {
     "data": {
      "text/plain": [
       "<matplotlib.axes._subplots.AxesSubplot at 0x11659db00>"
      ]
     },
     "execution_count": 58,
     "metadata": {},
     "output_type": "execute_result"
    },
    {
     "data": {
      "image/png": "[encoded data removed]",
      "text/plain": [
       "<Figure size 432x288 with 1 Axes>"
      ]
     },
     "metadata": {
      "needs_background": "light"
     },
     "output_type": "display_data"
    }
   ],
   "source": [
    "ted['year'].hist()"
   ]
  },
  {
   "cell_type": "code",
   "execution_count": 59,
   "metadata": {},
   "outputs": [
    {
     "data": {
      "text/plain": [
       "<matplotlib.axes._subplots.AxesSubplot at 0x10e8635c0>"
      ]
     },
     "execution_count": 59,
     "metadata": {},
     "output_type": "execute_result"
    },
    {
     "data": {
      "image/png": "[encoded data removed]",
      "text/plain": [
       "<Figure size 432x288 with 1 Axes>"
      ]
     },
     "metadata": {
      "needs_background": "light"
     },
     "output_type": "display_data"
    }
   ],
   "source": [
    "sns.regplot(x=\"year\", y=\"views\", data=ted)"
   ]
  },
  {
   "cell_type": "code",
   "execution_count": 60,
   "metadata": {},
   "outputs": [
    {
     "data": {
      "text/plain": [
       "datetime.datetime(2006, 6, 27, 0, 0)"
      ]
     },
     "execution_count": 60,
     "metadata": {},
     "output_type": "execute_result"
    }
   ],
   "source": [
    "first_published_date = datetime.strptime(ted['published_date'].sort_values()[0], '%Y/%m/%d')\n",
    "first_published_date"
   ]
  },
  {
   "cell_type": "code",
   "execution_count": 61,
   "metadata": {},
   "outputs": [
    {
     "data": {
      "text/plain": [
       "datetime.datetime(2017, 12, 31, 0, 0)"
      ]
     },
     "execution_count": 61,
     "metadata": {},
     "output_type": "execute_result"
    }
   ],
   "source": [
    "last_published_date = datetime.strptime(ted['published_date'].sort_values()[len(ted['published_date'].sort_values())-1], '%Y/%m/%d')\n",
    "last_count_date = datetime.strptime('2017/12/31', '%Y/%m/%d')\n",
    "last_count_date"
   ]
  },
  {
   "cell_type": "code",
   "execution_count": 62,
   "metadata": {},
   "outputs": [],
   "source": [
    "ted['days_since_start'] = ted['published_date'].apply(lambda x: (datetime.strptime(x, '%Y/%m/%d')-first_published_date).days)"
   ]
  },
  {
   "cell_type": "code",
   "execution_count": 63,
   "metadata": {},
   "outputs": [],
   "source": [
    "ted['days_till_end'] = ted['published_date'].apply(lambda x: (last_count_date - datetime.strptime(x, '%Y/%m/%d')).days)"
   ]
  },
  {
   "cell_type": "code",
   "execution_count": 64,
   "metadata": {},
   "outputs": [],
   "source": [
    "ted['views_per_day'] = ted['views']/ted['days_till_end']"
   ]
  },
  {
   "cell_type": "code",
   "execution_count": 65,
   "metadata": {},
   "outputs": [
    {
     "data": {
      "text/plain": [
       "<matplotlib.axes._subplots.AxesSubplot at 0x1165b8fd0>"
      ]
     },
     "execution_count": 65,
     "metadata": {},
     "output_type": "execute_result"
    },
    {
     "data": {
      "image/png": "[encoded data removed]",
      "text/plain": [
       "<Figure size 432x288 with 1 Axes>"
      ]
     },
     "metadata": {
      "needs_background": "light"
     },
     "output_type": "display_data"
    }
   ],
   "source": [
    "sns.regplot(x=\"days_till_end\", y=\"views_per_day\", data=ted)"
   ]
  },
  {
   "cell_type": "markdown",
   "metadata": {},
   "source": [
    "Seems to suggest more recent talks get more views per day since their published, but the methods might be fundamentally flawed. See the example below: with equal views for all, the division operation implies the final shape of the product is a downward sloping curve."
   ]
  },
  {
   "cell_type": "code",
   "execution_count": 66,
   "metadata": {},
   "outputs": [
    {
     "data": {
      "text/plain": [
       "[<matplotlib.lines.Line2D at 0x1a22d0ec88>]"
      ]
     },
     "execution_count": 66,
     "metadata": {},
     "output_type": "execute_result"
    },
    {
     "data": {
      "image/png": "[encoded data removed]",
      "text/plain": [
       "<Figure size 432x288 with 1 Axes>"
      ]
     },
     "metadata": {
      "needs_background": "light"
     },
     "output_type": "display_data"
    }
   ],
   "source": [
    "test_views = np.ones(4000)*10000\n",
    "test_days = np.arange(500,4500)\n",
    "plt.plot(np.divide(test_views,test_days))"
   ]
  },
  {
   "cell_type": "markdown",
   "metadata": {},
   "source": [
    "### Resume on the pos/neg graph of the most/least viewed talks"
   ]
  },
  {
   "cell_type": "code",
   "execution_count": 67,
   "metadata": {},
   "outputs": [
    {
     "data": {
      "image/png": "[encoded data removed]",
      "text/plain": [
       "<Figure size 720x432 with 6 Axes>"
      ]
     },
     "metadata": {
      "needs_background": "light"
     },
     "output_type": "display_data"
    }
   ],
   "source": [
    "three_graph(most_viewed_indices)"
   ]
  },
  {
   "cell_type": "code",
   "execution_count": 68,
   "metadata": {},
   "outputs": [
    {
     "data": {
      "image/png": "[encoded data removed]",
      "text/plain": [
       "<Figure size 720x432 with 6 Axes>"
      ]
     },
     "metadata": {
      "needs_background": "light"
     },
     "output_type": "display_data"
    }
   ],
   "source": [
    "three_graph(least_viewed_indices)"
   ]
  },
  {
   "cell_type": "code",
   "execution_count": 69,
   "metadata": {},
   "outputs": [],
   "source": [
    "views_extreme = most_viewed_data.append(least_viewed_data)\n",
    "views_extreme.to_csv('views_extreme.csv')"
   ]
  },
  {
   "cell_type": "markdown",
   "metadata": {},
   "source": [
    "### Tense Detector"
   ]
  },
  {
   "cell_type": "code",
   "execution_count": 70,
   "metadata": {},
   "outputs": [],
   "source": [
    "import operator\n",
    "def maxDict(dictionary):\n",
    "    return max(dictionary.items(), key=operator.itemgetter(1))[0]"
   ]
  },
  {
   "cell_type": "code",
   "execution_count": 71,
   "metadata": {},
   "outputs": [],
   "source": [
    "# https://stackoverflow.com/questions/30016904/determining-tense-of-a-sentence-python/45128430\n",
    "from nltk import word_tokenize, pos_tag\n",
    "\n",
    "def determine_tense(sentence, return_number = False):\n",
    "    text = word_tokenize(sentence)\n",
    "    tagged = pos_tag(text)\n",
    "\n",
    "    tense = {}\n",
    "    tense[\"future\"] = len([word for word in tagged if word[1] in [\"MD\"]])\n",
    "    tense[\"present\"] = len([word for word in tagged if word[1] in [\"VBP\", \"VBZ\",\"VBG\"]])\n",
    "    tense[\"past\"] = len([word for word in tagged if word[1] in [\"VBD\", \"VBN\"]]) \n",
    "    \n",
    "    output = maxDict(tense)\n",
    "    \n",
    "    if return_number:\n",
    "        if output == 'past':\n",
    "            output = -1\n",
    "        elif output == 'present':\n",
    "            output = 0\n",
    "        else:\n",
    "            output = 1\n",
    "    \n",
    "    return output"
   ]
  },
  {
   "cell_type": "code",
   "execution_count": 72,
   "metadata": {},
   "outputs": [],
   "source": [
    "def tenseGraph(index):\n",
    "    script = TextBlob(ted.transcript[i])\n",
    "    sentences = [str(s) for s in script.sentences]\n",
    "\n",
    "    tense_seq = np.asarray([determine_tense(s,True) for s in sentences])\n",
    "    #plt.plot(tense_seq)\n",
    "\n",
    "    axes = plt.gca()\n",
    "    axes.set_xlim([0,250])\n",
    "    axes.set_ylim([-1.1,1.1])\n",
    "    \n",
    "    #axes.set_title(str(index),ted.headline[index])\n",
    "\n",
    "    #markers_on = [int(pos) for pos in find_all_occur_position(ted.transcript[i],'if')*len(sentences)]\n",
    "    plt.plot(running_mean(tense_seq, 5),c = 'orange')\n",
    "    #plt.plot(running_mean(tense_seq, 10),c = 'red')\n",
    "    plt.plot(running_mean(tense_seq, 20),c = 'blue')\n",
    "        \n",
    "    \n",
    "\n",
    "'''\n",
    "%matplotlib notebook\n",
    "\n",
    "fig = plt.figure(figsize = (12,8))\n",
    "ax = fig.add_subplot(111)\n",
    "plt.ion()\n",
    "fig.show()\n",
    "fig.canvas.draw()\n",
    "\n",
    "for i in range(0,1000):\n",
    "    ax.clear()\n",
    "    \n",
    "    tenseGraph(i)\n",
    "    fig.canvas.draw()\n",
    "    time.sleep(0.3)\n",
    "\n",
    "%matplotlib inline\n",
    "'''"
   ]
  },
  {
   "cell_type": "markdown",
   "metadata": {},
   "source": [
    "It seems two valleys or more are common in a medium to long ted talks, indicating that people might give examples or share past experiences in those parts. Moreover, the end is typically tipping upwards, suggesting the end has more call-to-action and thoughts on the future."
   ]
  },
  {
   "cell_type": "markdown",
   "metadata": {},
   "source": [
    "### Now let's explore the related talks network"
   ]
  },
  {
   "cell_type": "code",
   "execution_count": 74,
   "metadata": {},
   "outputs": [],
   "source": [
    "txt = ted.related_talks[0]"
   ]
  },
  {
   "cell_type": "code",
   "execution_count": 75,
   "metadata": {},
   "outputs": [
    {
     "data": {
      "text/plain": [
       "[{'id': 865,\n",
       "  'hero': 'https://pe.tedcdn.com/images/ted/172559_800x600.jpg',\n",
       "  'speaker': 'Ken Robinson',\n",
       "  'title': 'Bring on the learning revolution!',\n",
       "  'duration': 1008,\n",
       "  'slug': 'sir_ken_robinson_bring_on_the_revolution',\n",
       "  'viewed_count': 7266103},\n",
       " {'id': 1738,\n",
       "  'hero': 'https://pe.tedcdn.com/images/ted/de98b161ad1434910ff4b56c89de71af04b8b873_1600x1200.jpg',\n",
       "  'speaker': 'Ken Robinson',\n",
       "  'title': \"How to escape education's death valley\",\n",
       "  'duration': 1151,\n",
       "  'slug': 'ken_robinson_how_to_escape_education_s_death_valley',\n",
       "  'viewed_count': 6657572},\n",
       " {'id': 2276,\n",
       "  'hero': 'https://pe.tedcdn.com/images/ted/3821f3728e0b755c7b9aea2e69cc093eca41abe1_2880x1620.jpg',\n",
       "  'speaker': 'Linda Cliatt-Wayman',\n",
       "  'title': 'How to fix a broken school? Lead fearlessly, love hard',\n",
       "  'duration': 1027,\n",
       "  'slug': 'linda_cliatt_wayman_how_to_fix_a_broken_school_lead_fearlessly_love_hard',\n",
       "  'viewed_count': 1617101},\n",
       " {'id': 892,\n",
       "  'hero': 'https://pe.tedcdn.com/images/ted/e79958940573cc610ccb583619a54866c41ef303_2880x1620.jpg',\n",
       "  'speaker': 'Charles Leadbeater',\n",
       "  'title': 'Education innovation in the slums',\n",
       "  'duration': 1138,\n",
       "  'slug': 'charles_leadbeater_on_education',\n",
       "  'viewed_count': 772296},\n",
       " {'id': 1232,\n",
       "  'hero': 'https://pe.tedcdn.com/images/ted/0e3e4e92d5ee8ae0e43962d447d3f790b31099b8_800x600.jpg',\n",
       "  'speaker': 'Geoff Mulgan',\n",
       "  'title': 'A short intro to the Studio School',\n",
       "  'duration': 376,\n",
       "  'slug': 'geoff_mulgan_a_short_intro_to_the_studio_school',\n",
       "  'viewed_count': 667971},\n",
       " {'id': 2616,\n",
       "  'hero': 'https://pe.tedcdn.com/images/ted/71cde5a6fa6c717488fb55eff9eef939a9241761_2880x1620.jpg',\n",
       "  'speaker': 'Kandice Sumner',\n",
       "  'title': \"How America's public schools keep kids in poverty\",\n",
       "  'duration': 830,\n",
       "  'slug': 'kandice_sumner_how_america_s_public_schools_keep_kids_in_poverty',\n",
       "  'viewed_count': 1181333}]"
      ]
     },
     "execution_count": 75,
     "metadata": {},
     "output_type": "execute_result"
    }
   ],
   "source": [
    "import ast\n",
    "ast.literal_eval(txt)"
   ]
  },
  {
   "cell_type": "code",
   "execution_count": null,
   "metadata": {},
   "outputs": [],
   "source": []
  },
  {
   "cell_type": "code",
   "execution_count": 76,
   "metadata": {},
   "outputs": [
    {
     "name": "stdout",
     "output_type": "stream",
     "text": [
      "0\n"
     ]
    }
   ],
   "source": [
    "class Talk:\n",
    "\n",
    "    def __init__(self,index,headline):\n",
    "        self.index = index\n",
    "        self.headline = headline\n",
    "        self.hero = ''\n",
    "        self.speaker = ''\n",
    "        self.duration = 0\n",
    "        self.slug = ''\n",
    "        self.viewed_count = 0\n",
    "        self.pointed_from = []\n",
    "        self.pointing_to = []\n",
    "        \n",
    "  \n",
    "    def change_headline(self, new_headline):\n",
    "        self.headline = new_headline\n",
    "        \n",
    "    def change_dict_parameters(self, dic):\n",
    "        if dic['title'] != self.headline:\n",
    "            print(f\"Headline mismatch, trying to copy info of {dic['title']} into object {self.headline}\")\n",
    "        else:\n",
    "            self.hero = dic['hero']\n",
    "            self.speaker = dic['speaker']\n",
    "            self.duration = dic['duration']\n",
    "            self.slug = dic['slug']\n",
    "            self.viewed_count = dic['viewed_count']\n",
    "\n",
    "    def add_pointed_from(self, new_pointed_from):\n",
    "        self.pointed_from.append(new_pointed_from)\n",
    "        \n",
    "    def add_pointing_to(self, new_pointing_to):\n",
    "        self.pointing_to.append(new_pointing_to)\n",
    "        \n",
    "\n",
    "talk1 = Talk(0,'Do schools kill creativity?')\n",
    "print(talk1.duration)"
   ]
  },
  {
   "cell_type": "code",
   "execution_count": 77,
   "metadata": {},
   "outputs": [
    {
     "name": "stdout",
     "output_type": "stream",
     "text": [
      "['How the \"ghost map\" helped end a killer disease', 'Singing \"What I Want\"', '\"Kiteflyer\\'s Hill\"', '\"What You\\'ve Got\"', '\"Black Men Ski\"', '\"Thula Mama\"', 'Building \"self-aware\" robots', 'A performance of \"Mathemagic\"', '\"Tembererana\"', 'The \"bottom billion\"', 'Memes and \"temes\"', '\"Clonie\"', '\"Peace on Earth\"', '\"Mother of Pearl,\" \"If I Had You\"', '\"The Dog Song\"', 'The web is more than \"better TV\"', 'Scenes from \"My Architect\"', 'How bacteria \"talk\"', 'Playing \"Pink Noise\" on guitar', '\"Wait It Out\"', 'Claim your \"manspace\"', 'Robots that \"show emotion\"', 'How we rescued the \"dancing\" bears\"', '\"Love Is a Loaded Pistol\"', 'It\\'s time for \"The Talk\"', 'Watch me unveil \"synthetic life\"', 'The walk from \"no\" to \"yes\"', 'Take \"the Other\" to lunch', 'The future of business is the \"mesh\"', 'Beware online \"filter bubbles\"', 'We need a \"moral operating system\"', 'A prosthetic arm that \"feels\"', '\"Women of Hope\"', 'How to \"sketch\" with electronics', 'A \"self-healing\" asphalt', 'The emergence of \"4D printing\"', '\"High School Training Ground\"', 'Life in the \"digital now\"', 'How your \"working memory\" makes sense of the world', 'How I learned to stop worrying and love \"useless\" art', 'Robots with \"soul\"', 'Does the media have a \"duty of care\"?', 'Can we all \"have it all\"?', 'Comics that ask \"what if?\"', 'The hunt for \"unexpected genetic heroes\"', 'What makes a word \"real\"?', 'Want to innovate? Become a \"now-ist\"', 'The problem with \"trickle-down techonomics\"', '\"Redemption Song\"', '\"St. James Infirmary Blues\"', '\"Space Oddity\"', '\"Rollercoaster\"']\n"
     ]
    }
   ],
   "source": [
    "# pre double quote replacement\n",
    "print([h for h in list(ted.headline) if '\"' in h])"
   ]
  },
  {
   "cell_type": "code",
   "execution_count": 78,
   "metadata": {},
   "outputs": [],
   "source": [
    "# double quote replacement\n",
    "ted.headline = ted.headline.apply(lambda x: x.replace('\"','/'))"
   ]
  },
  {
   "cell_type": "code",
   "execution_count": 79,
   "metadata": {
    "scrolled": false
   },
   "outputs": [
    {
     "data": {
      "text/plain": [
       "[]"
      ]
     },
     "execution_count": 79,
     "metadata": {},
     "output_type": "execute_result"
    }
   ],
   "source": [
    "# post double quote replacement\n",
    "[h for h in list(ted.headline) if '\"' in h]"
   ]
  },
  {
   "cell_type": "code",
   "execution_count": 80,
   "metadata": {},
   "outputs": [],
   "source": [
    "# create Talk object for every talk in the ted dataframe\n",
    "for i in range(len(ted)):\n",
    "    exec(f'talk_{i} = Talk({i},\"'+ted.headline[i]+'\")')"
   ]
  },
  {
   "cell_type": "code",
   "execution_count": 81,
   "metadata": {},
   "outputs": [],
   "source": [
    "talks_not_found = []\n",
    "for i in range(len(ted)):\n",
    "    this_talk_object = eval(f'talk_{i}')\n",
    "    related_talks_dicts = ast.literal_eval(ted.related_talks[i])\n",
    "    for related_talk_dict in related_talks_dicts:\n",
    "        try:\n",
    "            headline_of_dict = related_talk_dict['title']\n",
    "            object_index = ted[ted['headline'] == headline_of_dict].index[0]\n",
    "            other_talk_object = eval(f'talk_{object_index}')\n",
    "            other_talk_object.change_dict_parameters(related_talk_dict)\n",
    "            other_talk_object.add_pointed_from(this_talk_object)\n",
    "            this_talk_object.add_pointing_to(other_talk_object)\n",
    "        except:\n",
    "            #print(f'The talk titled {headline_of_dict} is not found in ted dataframe.')\n",
    "            talks_not_found.append(headline_of_dict)\n",
    "                "
   ]
  },
  {
   "cell_type": "code",
   "execution_count": 82,
   "metadata": {},
   "outputs": [],
   "source": [
    "def intersection(lst1, lst2): \n",
    "    return list(set(lst1) & set(lst2)) "
   ]
  },
  {
   "cell_type": "code",
   "execution_count": 83,
   "metadata": {},
   "outputs": [
    {
     "data": {
      "text/plain": [
       "[]"
      ]
     },
     "execution_count": 83,
     "metadata": {},
     "output_type": "execute_result"
    }
   ],
   "source": [
    "intersection(talks_not_found,list(ted.headline))"
   ]
  },
  {
   "cell_type": "code",
   "execution_count": 84,
   "metadata": {},
   "outputs": [
    {
     "data": {
      "text/plain": [
       "{'index': 0,\n",
       " 'headline': 'Do schools kill creativity?',\n",
       " 'hero': 'https://pe.tedcdn.com/images/ted/6b6eb940bceab359ca676a9b486aae475c1df883_2880x1620.jpg',\n",
       " 'speaker': 'Ken Robinson',\n",
       " 'duration': 1164,\n",
       " 'slug': 'ken_robinson_says_schools_kill_creativity',\n",
       " 'viewed_count': 47231612,\n",
       " 'pointed_from': [<__main__.Talk at 0x1165cd198>,\n",
       "  <__main__.Talk at 0x1a22c991d0>,\n",
       "  <__main__.Talk at 0x1a22deb208>,\n",
       "  <__main__.Talk at 0x1a22debef0>,\n",
       "  <__main__.Talk at 0x1a22deb390>,\n",
       "  <__main__.Talk at 0x1a22e0a1d0>,\n",
       "  <__main__.Talk at 0x1a22e1cb00>,\n",
       "  <__main__.Talk at 0x1a22e1cf98>,\n",
       "  <__main__.Talk at 0x1a21fc99e8>,\n",
       "  <__main__.Talk at 0x1a21fc9400>,\n",
       "  <__main__.Talk at 0x1a21fc9518>,\n",
       "  <__main__.Talk at 0x1a22dbfef0>,\n",
       "  <__main__.Talk at 0x1a22dbfac8>,\n",
       "  <__main__.Talk at 0x1a22dbf588>,\n",
       "  <__main__.Talk at 0x1a22dbf550>,\n",
       "  <__main__.Talk at 0x1a22db82e8>,\n",
       "  <__main__.Talk at 0x1a22db80f0>,\n",
       "  <__main__.Talk at 0x1a22db0128>,\n",
       "  <__main__.Talk at 0x1a22d9f470>,\n",
       "  <__main__.Talk at 0x1a22d9c240>,\n",
       "  <__main__.Talk at 0x1a22d9c080>,\n",
       "  <__main__.Talk at 0x1a22d99f60>,\n",
       "  <__main__.Talk at 0x1a22d87cc0>,\n",
       "  <__main__.Talk at 0x1a21ae4eb8>],\n",
       " 'pointing_to': [<__main__.Talk at 0x1a22db80f0>,\n",
       "  <__main__.Talk at 0x1a22d99f60>,\n",
       "  <__main__.Talk at 0x1a22d87cc0>,\n",
       "  <__main__.Talk at 0x1a22db6b70>,\n",
       "  <__main__.Talk at 0x1a22dabef0>,\n",
       "  <__main__.Talk at 0x1a21ae2048>]}"
      ]
     },
     "execution_count": 84,
     "metadata": {},
     "output_type": "execute_result"
    }
   ],
   "source": [
    "vars(talk_0)"
   ]
  },
  {
   "cell_type": "code",
   "execution_count": null,
   "metadata": {},
   "outputs": [],
   "source": []
  },
  {
   "cell_type": "code",
   "execution_count": 85,
   "metadata": {},
   "outputs": [
    {
     "name": "stdout",
     "output_type": "stream",
     "text": [
      "Number of edges: 12473\n",
      "[(<__main__.Talk object at 0x117b5a8d0>, <__main__.Talk object at 0x1a22db80f0>), (<__main__.Talk object at 0x117b5a8d0>, <__main__.Talk object at 0x1a22d99f60>)]\n"
     ]
    }
   ],
   "source": [
    "object_edge_list = []\n",
    "for i in range(len(ted)):\n",
    "    this_object = eval(f'talk_{i}')\n",
    "    for other_object in this_object.pointing_to:\n",
    "        object_edge_list.append((this_object,other_object))\n",
    "\n",
    "print(\"Number of edges:\", len(object_edge_list))\n",
    "print(object_edge_list[:2])"
   ]
  },
  {
   "cell_type": "code",
   "execution_count": 86,
   "metadata": {},
   "outputs": [],
   "source": [
    "G = nx.DiGraph()"
   ]
  },
  {
   "cell_type": "code",
   "execution_count": 87,
   "metadata": {},
   "outputs": [],
   "source": [
    "G.add_edges_from(object_edge_list)"
   ]
  },
  {
   "cell_type": "code",
   "execution_count": 88,
   "metadata": {},
   "outputs": [],
   "source": [
    "numbers = range(len(G.nodes))"
   ]
  },
  {
   "cell_type": "code",
   "execution_count": 89,
   "metadata": {},
   "outputs": [],
   "source": [
    "object_names = [f'talk_{number}' for number in numbers]"
   ]
  },
  {
   "cell_type": "code",
   "execution_count": 90,
   "metadata": {},
   "outputs": [],
   "source": [
    "objects = [eval(obj_name) for obj_name in object_names]"
   ]
  },
  {
   "cell_type": "code",
   "execution_count": 91,
   "metadata": {},
   "outputs": [],
   "source": [
    "# object_var to talk_i\n",
    "mapping = dict(zip(objects, object_names))"
   ]
  },
  {
   "cell_type": "code",
   "execution_count": 92,
   "metadata": {},
   "outputs": [],
   "source": [
    "talk_headlines = [talk.headline for talk in objects]"
   ]
  },
  {
   "cell_type": "code",
   "execution_count": 93,
   "metadata": {},
   "outputs": [],
   "source": [
    "# talk_i to headline\n",
    "mapping2 = dict(zip(object_names, talk_headlines))"
   ]
  },
  {
   "cell_type": "code",
   "execution_count": 94,
   "metadata": {},
   "outputs": [],
   "source": [
    "heros = [talk.hero for talk in objects]"
   ]
  },
  {
   "cell_type": "code",
   "execution_count": 95,
   "metadata": {},
   "outputs": [],
   "source": [
    "# talk_i to headline\n",
    "mapping3 = dict(zip(talk_headlines, heros))"
   ]
  },
  {
   "cell_type": "code",
   "execution_count": 96,
   "metadata": {},
   "outputs": [],
   "source": [
    "H = nx.relabel_nodes(G, mapping)"
   ]
  },
  {
   "cell_type": "code",
   "execution_count": 97,
   "metadata": {},
   "outputs": [],
   "source": [
    "# pos = nx.spring_layout(H)\n",
    "# nx.draw_networkx_edges(H, pos, node_size = 10)"
   ]
  },
  {
   "cell_type": "code",
   "execution_count": 98,
   "metadata": {},
   "outputs": [
    {
     "data": {
      "text/plain": [
       "[<matplotlib.lines.Line2D at 0x1a21e95a20>]"
      ]
     },
     "execution_count": 98,
     "metadata": {},
     "output_type": "execute_result"
    },
    {
     "data": {
      "image/png": "[encoded data removed]",
      "text/plain": [
       "<Figure size 432x288 with 1 Axes>"
      ]
     },
     "metadata": {
      "needs_background": "light"
     },
     "output_type": "display_data"
    }
   ],
   "source": [
    "viewed_counts_list = [talk.viewed_count for talk in objects]\n",
    "plt.plot(np.asarray(sorted(viewed_counts_list)))"
   ]
  },
  {
   "cell_type": "code",
   "execution_count": 99,
   "metadata": {},
   "outputs": [
    {
     "name": "stdout",
     "output_type": "stream",
     "text": [
      "1991586.4000000013\n"
     ]
    }
   ],
   "source": [
    "thres_for_top= np.percentile(sorted(viewed_counts_list),80)\n",
    "print(thres_for_top)"
   ]
  },
  {
   "cell_type": "code",
   "execution_count": 100,
   "metadata": {},
   "outputs": [],
   "source": [
    "bottom_talks = [talk for talk in objects if talk.viewed_count < thres_for_top]"
   ]
  },
  {
   "cell_type": "code",
   "execution_count": 101,
   "metadata": {},
   "outputs": [],
   "source": [
    "H = nx.relabel_nodes(G, mapping)\n",
    "for talk in bottom_talks:\n",
    "    H.remove_node(mapping[talk])"
   ]
  },
  {
   "cell_type": "code",
   "execution_count": 103,
   "metadata": {},
   "outputs": [],
   "source": [
    "# pos = nx.spring_layout(H)\n",
    "# nx.draw_networkx_edges(H, pos, node_size = 500)"
   ]
  },
  {
   "cell_type": "code",
   "execution_count": 104,
   "metadata": {},
   "outputs": [],
   "source": [
    "P = nx.relabel_nodes(H, mapping2)"
   ]
  },
  {
   "cell_type": "code",
   "execution_count": 105,
   "metadata": {},
   "outputs": [],
   "source": [
    "days_list = list(ted['days_till_end'])\n",
    "OldMax = days_list[0]\n",
    "OldMin = days_list[-1]\n",
    "NewMax = 255 # max blue, red will be (255-blue)\n",
    "NewMin = 0\n",
    "\n",
    "hex_code_list = []\n",
    "\n",
    "for OldValue in days_list:\n",
    "    NewValue = int((((OldValue - OldMin) * (NewMax - NewMin)) / (OldMax - OldMin)) + NewMin)\n",
    "    rgb_tuple = (255-NewValue,0,NewValue)\n",
    "    hex_code = '#%02x%02x%02x' % rgb_tuple\n",
    "    hex_code_list.append(hex_code)\n",
    "    \n",
    "ted['hex_code_r_new_b_old'] = hex_code_list"
   ]
  },
  {
   "cell_type": "code",
   "execution_count": null,
   "metadata": {},
   "outputs": [],
   "source": [
    "#from pyvis.network import Network\n",
    "from pyvis import network as net\n",
    "\n",
    "ted_net = net.Network(height=\"750px\", width=\"100%\", bgcolor=\"#ffffff\", font_color=\"black\",notebook = True)\n",
    "ted_net.from_nx(P)\n",
    "\n",
    "# set the physics layout of the network\n",
    "ted_net.barnes_hut()\n",
    "\n",
    "neighbor_map = ted_net.get_adj_list()\n",
    "\n",
    "# add neighbor data to node hover data\n",
    "for node in ted_net.nodes:\n",
    "    hero = mapping3[node[\"id\"]]\n",
    "    node[\"title\"] = node[\"id\"]+\"<br>Related talks:<br>\" + \"<br>\".join(neighbor_map[node[\"id\"]]) #f'<img src=\"{hero}\" height=\"40\" width=\"40\">'\n",
    "    node[\"value\"] = int(ted[ted['headline'] == node[\"id\"]]['views'])\n",
    "    node[\"color\"] = str(ted[ted['headline'] == node[\"id\"]][['hex_code_r_new_b_old']]).split()[-1]\n",
    "    node['labelHighlightBold'] = True\n",
    "    # node[\"mass\"] = node[\"value\"]\n",
    "\n",
    "\n",
    "\n",
    "ted_net.show(\"ted.html\")"
   ]
  },
  {
   "cell_type": "code",
   "execution_count": null,
   "metadata": {},
   "outputs": [],
   "source": []
  },
  {
   "cell_type": "code",
   "execution_count": 93,
   "metadata": {},
   "outputs": [],
   "source": [
    "import statsmodels.api as sm\n",
    "def linreg_summary(y,x,df,log = False,intercept = True):\n",
    "\n",
    "    x_list = x if isinstance(x, list) else [x]\n",
    "    print('linreg', y, \"~\", x_list)    \n",
    "\n",
    "    df['intercept'] = 1\n",
    "    intercept_list = ['intercept'] if intercept else []\n",
    "    \n",
    "    if type(log) != list:   # True / False\n",
    "        if log:\n",
    "            lm=sm.OLS(np.log(df[y]+1),np.log(df[intercept_list + x_list]+1))\n",
    "        else:\n",
    "            lm=sm.OLS(df[y],df[intercept_list + x_list])\n",
    "    else:   # log = [True, False]    log(y) ~ x\n",
    "        if len(log) != 2:\n",
    "            print(\"Error, not defined.\")\n",
    "        else:\n",
    "            if log[0]:\n",
    "                y = np.log(df[y]+1)\n",
    "            if log[1]:\n",
    "                x = np.log(df[intercept_list + x_list]+1)\n",
    "            lm=sm.OLS(y,x)\n",
    "    \n",
    "    slr_results = lm.fit()\n",
    "    \n",
    "    df.drop('intercept',axis = 1,inplace = True)\n",
    "    \n",
    "    return slr_results.summary()\n",
    "\n"
   ]
  }
 ],
 "metadata": {
  "kernelspec": {
   "display_name": "Python 3",
   "language": "python",
   "name": "python3"
  },
  "language_info": {
   "codemirror_mode": {
    "name": "ipython",
    "version": 3
   },
   "file_extension": ".py",
   "mimetype": "text/x-python",
   "name": "python",
   "nbconvert_exporter": "python",
   "pygments_lexer": "ipython3",
   "version": "3.6.8"
  }
 },
 "nbformat": 4,
 "nbformat_minor": 2
}
